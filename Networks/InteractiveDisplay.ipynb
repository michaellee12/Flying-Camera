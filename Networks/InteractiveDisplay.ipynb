{
 "cells": [
  {
   "cell_type": "markdown",
   "metadata": {},
   "source": [
    "# Interactive neural network display\n",
    "\n",
    "####  Please read all instructions below\n",
    "\n",
    "### Step 1 : How to run the program\n",
    "\n",
    "<img src=\"../Image/Instruction.PNG\" width=\"800\" />\n",
    "\n",
    "Run the program by selecting the \"Kernel\" button at the browser's top left hand corner (not on the image), then click \"Restart & Run All\" and \"Restart and Run All Cells\" (As shown in the image above)\n",
    "It might take a minute to load.\n",
    "\n",
    "<img src=\"../Image/Restart.PNG\" width=\"600\" />\n",
    "\n",
    "\n",
    "\n",
    "\n",
    "### Step 2: How to interact with the program\n",
    "<img src=\"../Image/Dropdown.PNG\"  width=\"600\"  />\n",
    "\n",
    "This notebook allows you to interact with the trained neural network by feeding in different spectral data for classification. When you scroll down, you can select from one of the existing reflectance spectra from the dropdown manual. Alternatively, when you select \"Make your own spectrum\" option, you can create your own spectrum by selecting random value and input that into the network.\n",
    "\n",
    "In the top row, the center panel gives the hyperspectral reflectance data as a graph, and the left panel gives the RGB reflectance data as the colour in a box. When you are in the \"Make your own spectrum\" mode, the right panel also allow you to customise your own reflectance data.\n",
    "The bottom row gives the classification from feeding the RBG or hyperspectral data into their corresponding neural network. The network's classification is signified by the classes with the highest confidence values. A tick (✓) is placed next to these classes for your convenience.\n",
    "\n",
    "### What to do if a \"dead kernal\" appears \n",
    "<img src=\"../Image/DeadKernal.PNG\" width=\"30\"  /> \n",
    "\n",
    "___This symbol would appear if the Kernal becomes dead. This is because the mybinder.org juypter notebook hosting service is free, where the RAM memory is limited.  .___ \n",
    "___Select \"Restart & Run All\" as you did at the start.___\n",
    "\n",
    "\n",
    "## Run The Program \n",
    "### If you are ready to start running the program, carry out the instructions from steps 1 & 2 as above\n",
    "\n",
    " "
   ]
  },
  {
   "cell_type": "code",
   "execution_count": 1,
   "metadata": {},
   "outputs": [
    {
     "data": {
      "text/markdown": [
       "## &nbsp;&nbsp;&nbsp;&nbsp;&nbsp;View Classification"
      ],
      "text/plain": [
       "<IPython.core.display.Markdown object>"
      ]
     },
     "metadata": {},
     "output_type": "display_data"
    },
    {
     "data": {
      "text/markdown": [
       "&nbsp;&nbsp;&nbsp;&nbsp;&nbsp;&nbsp;&nbsp;&nbsp;&nbsp;Scroll back up to Step 2 if instruction is needed."
      ],
      "text/plain": [
       "<IPython.core.display.Markdown object>"
      ]
     },
     "metadata": {},
     "output_type": "display_data"
    },
    {
     "data": {
      "application/vnd.jupyter.widget-view+json": {
       "model_id": "a96920a2c8bf4c2fb3f85565abe45fe0",
       "version_major": 2,
       "version_minor": 0
      },
      "text/plain": [
       "Dropdown(description='Material:', options=('Select', 'Make your own spectrum', 'Average Amphibian Scat', 'Aver…"
      ]
     },
     "metadata": {},
     "output_type": "display_data"
    },
    {
     "data": {
      "application/vnd.jupyter.widget-view+json": {
       "model_id": "252f76feb73c4c819d5529f68fc8d6d4",
       "version_major": 2,
       "version_minor": 0
      },
      "text/plain": [
       "GridBox(children=(Output(layout=Layout(border='1px solid #E0E0E0', padding='0px 0px 0px 20px', width='100%')),…"
      ]
     },
     "metadata": {},
     "output_type": "display_data"
    }
   ],
   "source": [
    "%matplotlib inline\n",
    "%load_ext autoreload\n",
    "%autoreload 2\n",
    "%config InlineBackend.figure_format = 'retina'\n",
    "from DisplayFunction import FlyingCameraNetworkDisplay\n",
    "\n",
    "FlyingCameraNetworkDisplay()"
   ]
  },
  {
   "cell_type": "markdown",
   "metadata": {},
   "source": [
    "\n",
    "### Additional information:\n",
    "* The RGB data used in this this note book is only generating by interpolating 3 specific wavelengths from the red, green and blue region. This is in contrast to the more time-consuming way of generating RGB data that is described in the method, where three broad spectral response functions are used to convolve the many wavelengths in each of the red, green and blue region for a more representative RGB value.\n",
    "* Click [here](DisplayFunction.py) for the full code behind the FlyingCameraNetworkDisplay() function"
   ]
  }
 ],
 "metadata": {
  "kernelspec": {
   "display_name": "Python 3",
   "language": "python",
   "name": "python3"
  },
  "language_info": {
   "codemirror_mode": {
    "name": "ipython",
    "version": 3
   },
   "file_extension": ".py",
   "mimetype": "text/x-python",
   "name": "python",
   "nbconvert_exporter": "python",
   "pygments_lexer": "ipython3",
   "version": "3.6.7"
  }
 },
 "nbformat": 4,
 "nbformat_minor": 2
}
