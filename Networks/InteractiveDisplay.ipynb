{
 "cells": [
  {
   "cell_type": "markdown",
   "metadata": {},
   "source": [
    "## Interactive neural network display\n",
    "\n",
    "####  Please read all instructions below\n",
    "\n",
    "### Step 1 \n",
    "\n",
    "<img src=\"../Image/Instruction.PNG\" width=\"400\" />\n",
    "\n",
    "Run the program by selecting the \"Kernel\" button at the browser's top left hand corner, then click \"Restart Kernel and Run All Cells...\" and \"Restart\" (As shown in the image above)\n",
    "\n",
    "It might take a minute to load.\n",
    "\n",
    "### Step 2\n",
    "<img src=\"../Image/Dropdown.PNG\"  width=\"300\"  />\n",
    "\n",
    "This notebook allows you to feed your own spectral data into the network for classification. You can select from one of the existing reflectance spectra from the dropdown manual, or you can input your own spectrum by selecting the \"Make your own\" option.  (As shown in the image above)\n",
    "\n",
    "\n",
    "\n",
    "The top row of output represents the hyperspectral reflectance data as a graph, and the RGB reflectance data by displaying the corresponding colour in a box. The RGB data used in this case is only generating by interpolating 3 specific wavelengths from the red, green and blue region. This is in contrast to the more time-consuming way of generating RGB data that is described in the method, where three broad spectral response functions are used to convolve the many wavelengths in each of the red, green and blue region for a more representative RGB value.\n",
    "\n",
    "The bottom row represents the classification from feeding the RBG or hyperspectral data into their corresponding neural network. The network's classification is signified by the classes with the highest confidence values. A \"✓\" is placed next to these classes for your convenience.\n",
    "\n",
    "___*Since the mybinder.org juypter notebook hosting service is free, the RAM memory is limited. If the Kernal becomes dead and this <img src=\"../Image/DeadKernal.PNG\" /> symbol appears, select \"Restart Kernel and Run All Cells...\" as you did at the start.___\n",
    "\n",
    "\n",
    "\n",
    "### Additional resources:\n",
    "\n",
    "* Click [here](DisplayFunction.py) for the full code behind the FlyingCameraNetworkDisplay() function\n",
    "\n",
    " "
   ]
  },
  {
   "cell_type": "code",
   "execution_count": 1,
   "metadata": {},
   "outputs": [
    {
     "data": {
      "text/markdown": [
       "## &nbsp;&nbsp;&nbsp;&nbsp;&nbsp;View Classification"
      ],
      "text/plain": [
       "<IPython.core.display.Markdown object>"
      ]
     },
     "metadata": {},
     "output_type": "display_data"
    },
    {
     "data": {
      "application/vnd.jupyter.widget-view+json": {
       "model_id": "12e611833f21403c98e8e4ba05ba638f",
       "version_major": 2,
       "version_minor": 0
      },
      "text/plain": [
       "Dropdown(description='Material:', options=('Select', 'Make your own', 'Average Amphibian Scat', 'Average Bird …"
      ]
     },
     "metadata": {},
     "output_type": "display_data"
    },
    {
     "data": {
      "application/vnd.jupyter.widget-view+json": {
       "model_id": "e320df615f7d4ff8a201fe0e76774602",
       "version_major": 2,
       "version_minor": 0
      },
      "text/plain": [
       "GridBox(children=(Output(layout=Layout(border='1px solid #E0E0E0', padding='0px 0px 0px 20px', width='100%')),…"
      ]
     },
     "metadata": {},
     "output_type": "display_data"
    }
   ],
   "source": [
    "%matplotlib inline\n",
    "%load_ext autoreload\n",
    "%autoreload 2\n",
    "%config InlineBackend.figure_format = 'retina'\n",
    "from DisplayFunction import FlyingCameraNetworkDisplay\n",
    "\n",
    "FlyingCameraNetworkDisplay()"
   ]
  }
 ],
 "metadata": {
  "kernelspec": {
   "display_name": "Python 3",
   "language": "python",
   "name": "python3"
  },
  "language_info": {
   "codemirror_mode": {
    "name": "ipython",
    "version": 3
   },
   "file_extension": ".py",
   "mimetype": "text/x-python",
   "name": "python",
   "nbconvert_exporter": "python",
   "pygments_lexer": "ipython3",
   "version": "3.6.5"
  }
 },
 "nbformat": 4,
 "nbformat_minor": 2
}
